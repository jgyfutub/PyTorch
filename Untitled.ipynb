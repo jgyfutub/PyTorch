{
 "cells": [
  {
   "cell_type": "code",
   "execution_count": 1,
   "id": "a7f842e4-77d3-48a8-beec-492e5597327a",
   "metadata": {},
   "outputs": [],
   "source": [
    "import torch"
   ]
  },
  {
   "cell_type": "code",
   "execution_count": 11,
   "id": "9cc14434-dd97-455a-a685-3e0ab2312108",
   "metadata": {},
   "outputs": [],
   "source": [
    "device=\"cuda\" if torch.cuda.is_available() else \"cpu\""
   ]
  },
  {
   "cell_type": "code",
   "execution_count": 13,
   "id": "2e022a7a-ec0f-4d79-af1a-57b770cc79ce",
   "metadata": {},
   "outputs": [
    {
     "data": {
      "text/plain": [
       "tensor([[1., 2., 3.],\n",
       "        [4., 5., 6.]])"
      ]
     },
     "execution_count": 13,
     "metadata": {},
     "output_type": "execute_result"
    }
   ],
   "source": [
    "torch.tensor([[1,2,3],[4,5,6]],dtype=torch.float32, device=device)"
   ]
  },
  {
   "cell_type": "code",
   "execution_count": 15,
   "id": "7a3af914-ffff-4efb-ac28-7df400f256f9",
   "metadata": {},
   "outputs": [],
   "source": [
    "x=torch.empty(size=(3,3))"
   ]
  },
  {
   "cell_type": "code",
   "execution_count": 17,
   "id": "8ee75e1f-176c-4369-8764-09417f6e789f",
   "metadata": {},
   "outputs": [],
   "source": [
    "x=torch.zeros(size=(3,3))"
   ]
  },
  {
   "cell_type": "code",
   "execution_count": 19,
   "id": "eab4ca90-d590-477d-9da1-e4bf03f2c232",
   "metadata": {},
   "outputs": [],
   "source": [
    "x=torch.rand(size=(3,3))"
   ]
  },
  {
   "cell_type": "code",
   "execution_count": 21,
   "id": "defc248c-a780-42ce-87c8-fb99c3117f30",
   "metadata": {},
   "outputs": [],
   "source": [
    "x=torch.ones(size=(3,3))"
   ]
  },
  {
   "cell_type": "code",
   "execution_count": 25,
   "id": "7cdce11e-f2bc-458d-a1c4-8f69e9e0c5cc",
   "metadata": {},
   "outputs": [],
   "source": [
    "x=torch.eye(5,5) #identity matrix"
   ]
  },
  {
   "cell_type": "code",
   "execution_count": 27,
   "id": "a3876aa6-8e41-4679-88b1-40c525e2a69a",
   "metadata": {},
   "outputs": [],
   "source": [
    "x=torch.arange(start=0,end=9,step=1)"
   ]
  },
  {
   "cell_type": "code",
   "execution_count": 29,
   "id": "4f7bdf67-4b67-497b-b8f3-95126fea5e2b",
   "metadata": {},
   "outputs": [
    {
     "data": {
      "text/plain": [
       "tensor([0, 1, 2, 3, 4, 5, 6, 7, 8])"
      ]
     },
     "execution_count": 29,
     "metadata": {},
     "output_type": "execute_result"
    }
   ],
   "source": [
    "x"
   ]
  },
  {
   "cell_type": "code",
   "execution_count": 35,
   "id": "686d24c0-d314-472d-abd2-a6e6a0590cba",
   "metadata": {},
   "outputs": [
    {
     "data": {
      "text/plain": [
       "tensor([0.1000, 0.2000, 0.3000, 0.4000, 0.5000, 0.6000, 0.7000, 0.8000, 0.9000,\n",
       "        1.0000])"
      ]
     },
     "execution_count": 35,
     "metadata": {},
     "output_type": "execute_result"
    }
   ],
   "source": [
    "torch.linspace(start=0.1,end=1,steps=10)"
   ]
  },
  {
   "cell_type": "code",
   "execution_count": 39,
   "id": "45e9524d-2f4b-4541-86a4-6395a2dbdc70",
   "metadata": {},
   "outputs": [
    {
     "data": {
      "text/plain": [
       "tensor([[-0.1610, -0.2350,  0.6981, -0.6218,  0.3682]])"
      ]
     },
     "execution_count": 39,
     "metadata": {},
     "output_type": "execute_result"
    }
   ],
   "source": [
    "torch.empty(size=(1,5)).normal_(mean=0,std=1)"
   ]
  },
  {
   "cell_type": "code",
   "execution_count": 41,
   "id": "e227b320-7bd2-47a8-9285-b8ec657d4069",
   "metadata": {},
   "outputs": [
    {
     "data": {
      "text/plain": [
       "tensor([[0.1877, 0.2239, 0.9927, 0.7056, 0.5991]])"
      ]
     },
     "execution_count": 41,
     "metadata": {},
     "output_type": "execute_result"
    }
   ],
   "source": [
    "torch.empty(size=(1,5)).uniform_(0,1)"
   ]
  },
  {
   "cell_type": "code",
   "execution_count": 43,
   "id": "4ff64332-7ca2-4f03-b196-e25207176253",
   "metadata": {},
   "outputs": [
    {
     "data": {
      "text/plain": [
       "tensor([[1., 0., 0.],\n",
       "        [0., 1., 0.],\n",
       "        [0., 0., 1.]])"
      ]
     },
     "execution_count": 43,
     "metadata": {},
     "output_type": "execute_result"
    }
   ],
   "source": [
    "torch.diag(torch.ones(3))"
   ]
  },
  {
   "cell_type": "code",
   "execution_count": 45,
   "id": "864b1371-c716-4801-a820-db7be6182452",
   "metadata": {},
   "outputs": [],
   "source": [
    "#iniitalize tensor of other types"
   ]
  },
  {
   "cell_type": "code",
   "execution_count": 47,
   "id": "fee69743-3f48-4ff4-924b-2a9895d32646",
   "metadata": {},
   "outputs": [],
   "source": [
    "t=torch.arange(4)"
   ]
  },
  {
   "cell_type": "code",
   "execution_count": 49,
   "id": "e7e10ade-3778-4c43-b652-6dd703a07475",
   "metadata": {},
   "outputs": [
    {
     "data": {
      "text/plain": [
       "tensor([0, 1, 2, 3])"
      ]
     },
     "execution_count": 49,
     "metadata": {},
     "output_type": "execute_result"
    }
   ],
   "source": [
    "t"
   ]
  },
  {
   "cell_type": "code",
   "execution_count": 51,
   "id": "edbf5252-0520-4eb9-ae59-da2b3cccdbf9",
   "metadata": {},
   "outputs": [
    {
     "data": {
      "text/plain": [
       "tensor([False,  True,  True,  True])"
      ]
     },
     "execution_count": 51,
     "metadata": {},
     "output_type": "execute_result"
    }
   ],
   "source": [
    "t.bool()"
   ]
  },
  {
   "cell_type": "code",
   "execution_count": 53,
   "id": "4efae169-792d-49ee-abb1-acf477bca4c1",
   "metadata": {},
   "outputs": [
    {
     "data": {
      "text/plain": [
       "tensor([0, 1, 2, 3], dtype=torch.int16)"
      ]
     },
     "execution_count": 53,
     "metadata": {},
     "output_type": "execute_result"
    }
   ],
   "source": [
    "t.short()"
   ]
  },
  {
   "cell_type": "code",
   "execution_count": 55,
   "id": "4229a424-e56f-455d-ba01-4b714ca24105",
   "metadata": {},
   "outputs": [
    {
     "data": {
      "text/plain": [
       "tensor([0, 1, 2, 3])"
      ]
     },
     "execution_count": 55,
     "metadata": {},
     "output_type": "execute_result"
    }
   ],
   "source": [
    "t.long()"
   ]
  },
  {
   "cell_type": "code",
   "execution_count": 57,
   "id": "3548857b-5f79-4d84-893a-d12ffe87497a",
   "metadata": {},
   "outputs": [
    {
     "data": {
      "text/plain": [
       "tensor([0., 1., 2., 3.], dtype=torch.float16)"
      ]
     },
     "execution_count": 57,
     "metadata": {},
     "output_type": "execute_result"
    }
   ],
   "source": [
    "t.half()"
   ]
  },
  {
   "cell_type": "code",
   "execution_count": 59,
   "id": "e2fe9a6b-c722-43b3-a244-c53b5e32e502",
   "metadata": {},
   "outputs": [
    {
     "data": {
      "text/plain": [
       "tensor([0., 1., 2., 3.])"
      ]
     },
     "execution_count": 59,
     "metadata": {},
     "output_type": "execute_result"
    }
   ],
   "source": [
    "t.float()"
   ]
  },
  {
   "cell_type": "code",
   "execution_count": 61,
   "id": "dbaa9fb0-1534-4bed-a14f-bb31ed33fac0",
   "metadata": {},
   "outputs": [
    {
     "data": {
      "text/plain": [
       "tensor([0., 1., 2., 3.], dtype=torch.float64)"
      ]
     },
     "execution_count": 61,
     "metadata": {},
     "output_type": "execute_result"
    }
   ],
   "source": [
    "t.double()"
   ]
  },
  {
   "cell_type": "code",
   "execution_count": 63,
   "id": "e4774280-cd59-4772-906f-b792e05e1819",
   "metadata": {},
   "outputs": [],
   "source": [
    "#tencor converison"
   ]
  },
  {
   "cell_type": "code",
   "execution_count": 67,
   "id": "916e68df-ac6d-4e0b-9ba4-8da36fa9ae40",
   "metadata": {},
   "outputs": [],
   "source": [
    "import numpy as np\n",
    "np=np.zeros((5,5))"
   ]
  },
  {
   "cell_type": "code",
   "execution_count": 69,
   "id": "0f8e15d6-f79d-430b-8861-8179367027f3",
   "metadata": {},
   "outputs": [
    {
     "data": {
      "text/plain": [
       "tensor([[0., 0., 0., 0., 0.],\n",
       "        [0., 0., 0., 0., 0.],\n",
       "        [0., 0., 0., 0., 0.],\n",
       "        [0., 0., 0., 0., 0.],\n",
       "        [0., 0., 0., 0., 0.]], dtype=torch.float64)"
      ]
     },
     "execution_count": 69,
     "metadata": {},
     "output_type": "execute_result"
    }
   ],
   "source": [
    "t=torch.from_numpy(np)"
   ]
  },
  {
   "cell_type": "code",
   "execution_count": 71,
   "id": "08216579-a5eb-4500-af5d-74686ed97b11",
   "metadata": {},
   "outputs": [
    {
     "data": {
      "text/plain": [
       "array([0, 1, 2, 3])"
      ]
     },
     "execution_count": 71,
     "metadata": {},
     "output_type": "execute_result"
    }
   ],
   "source": [
    "t.numpy()"
   ]
  },
  {
   "cell_type": "code",
   "execution_count": 73,
   "id": "70c1ef00-d97c-4bd2-a3c2-1d79752d3dae",
   "metadata": {},
   "outputs": [],
   "source": [
    "#tensor math"
   ]
  },
  {
   "cell_type": "code",
   "execution_count": 80,
   "id": "7f32b455-a30f-4210-aa02-e834a2769562",
   "metadata": {},
   "outputs": [],
   "source": [
    "x=torch.tensor([1,2,3])\n",
    "y=torch.tensor([1,2,3])"
   ]
  },
  {
   "cell_type": "code",
   "execution_count": 84,
   "id": "989bf7c2-caa2-4a0e-84b7-ab8241a9ff58",
   "metadata": {},
   "outputs": [
    {
     "data": {
      "text/plain": [
       "tensor([2., 4., 6.])"
      ]
     },
     "execution_count": 84,
     "metadata": {},
     "output_type": "execute_result"
    }
   ],
   "source": [
    "z1=torch.empty(3)\n",
    "torch.add(x,y,out=z1)"
   ]
  },
  {
   "cell_type": "code",
   "execution_count": 86,
   "id": "90316388-3935-4cad-8aa5-e3881525054e",
   "metadata": {},
   "outputs": [
    {
     "data": {
      "text/plain": [
       "tensor([2, 4, 6])"
      ]
     },
     "execution_count": 86,
     "metadata": {},
     "output_type": "execute_result"
    }
   ],
   "source": [
    "x+y"
   ]
  },
  {
   "cell_type": "code",
   "execution_count": 88,
   "id": "5cf6ee98-b940-49ba-b56b-407b5c88efc7",
   "metadata": {},
   "outputs": [
    {
     "data": {
      "text/plain": [
       "tensor([0, 0, 0])"
      ]
     },
     "execution_count": 88,
     "metadata": {},
     "output_type": "execute_result"
    }
   ],
   "source": [
    "x-y"
   ]
  },
  {
   "cell_type": "code",
   "execution_count": 90,
   "id": "59f9ff23-8677-422d-a145-5788a70b5b1b",
   "metadata": {},
   "outputs": [
    {
     "data": {
      "text/plain": [
       "tensor([0., 0., 0.])"
      ]
     },
     "execution_count": 90,
     "metadata": {},
     "output_type": "execute_result"
    }
   ],
   "source": [
    "torch.subtract(x,y,out=z1)"
   ]
  },
  {
   "cell_type": "code",
   "execution_count": 94,
   "id": "0bdeab77-e186-4ef7-b60d-e02d96c6ed2a",
   "metadata": {},
   "outputs": [
    {
     "data": {
      "text/plain": [
       "tensor([1., 1., 1.])"
      ]
     },
     "execution_count": 94,
     "metadata": {},
     "output_type": "execute_result"
    }
   ],
   "source": [
    "torch.true_divide(x,y)"
   ]
  },
  {
   "cell_type": "code",
   "execution_count": 96,
   "id": "6edb4758-d987-4810-9186-3055fe4e949d",
   "metadata": {},
   "outputs": [],
   "source": [
    "#inplace operatuions"
   ]
  },
  {
   "cell_type": "code",
   "execution_count": 98,
   "id": "8ab99fe1-b748-42e8-a509-b2d1289f0fdc",
   "metadata": {},
   "outputs": [],
   "source": [
    "t=torch.zeros(3)"
   ]
  },
  {
   "cell_type": "code",
   "execution_count": 100,
   "id": "ad4ee6d6-eaf1-4ce3-8e8b-292bda2d8f73",
   "metadata": {},
   "outputs": [
    {
     "data": {
      "text/plain": [
       "tensor([1., 2., 3.])"
      ]
     },
     "execution_count": 100,
     "metadata": {},
     "output_type": "execute_result"
    }
   ],
   "source": [
    "t.add(x)"
   ]
  },
  {
   "cell_type": "code",
   "execution_count": 102,
   "id": "ff5b4318-c51d-4611-a4e1-4df72231f642",
   "metadata": {},
   "outputs": [],
   "source": [
    "t+=x"
   ]
  },
  {
   "cell_type": "code",
   "execution_count": 104,
   "id": "ec51acee-febb-4bfa-bc9f-98978351fad5",
   "metadata": {},
   "outputs": [],
   "source": [
    "#exp\n",
    "z=x.pow(2)"
   ]
  },
  {
   "cell_type": "code",
   "execution_count": 106,
   "id": "bb1a530c-478e-4710-aeed-151235dd1b5f",
   "metadata": {},
   "outputs": [
    {
     "data": {
      "text/plain": [
       "tensor([1, 4, 9])"
      ]
     },
     "execution_count": 106,
     "metadata": {},
     "output_type": "execute_result"
    }
   ],
   "source": [
    "z=x**2\n",
    "z"
   ]
  },
  {
   "cell_type": "code",
   "execution_count": 108,
   "id": "6c9e5e4f-ba07-4aed-add0-090e4ce61f3e",
   "metadata": {},
   "outputs": [
    {
     "data": {
      "text/plain": [
       "tensor([True, True, True])"
      ]
     },
     "execution_count": 108,
     "metadata": {},
     "output_type": "execute_result"
    }
   ],
   "source": [
    "x>0"
   ]
  },
  {
   "cell_type": "code",
   "execution_count": 110,
   "id": "71412b49-6afb-4da1-8a5c-243813860192",
   "metadata": {},
   "outputs": [
    {
     "data": {
      "text/plain": [
       "tensor([False, False, False])"
      ]
     },
     "execution_count": 110,
     "metadata": {},
     "output_type": "execute_result"
    }
   ],
   "source": [
    "x<0"
   ]
  },
  {
   "cell_type": "code",
   "execution_count": 112,
   "id": "42e5c9bd-8056-4081-9155-abf75240c8f2",
   "metadata": {},
   "outputs": [],
   "source": [
    "#matrix "
   ]
  },
  {
   "cell_type": "code",
   "execution_count": 114,
   "id": "0efd482d-d981-4bda-9c9d-e97c1c3d9fa1",
   "metadata": {},
   "outputs": [
    {
     "data": {
      "text/plain": [
       "tensor([[0.5131, 1.2011, 1.8750],\n",
       "        [0.7055, 1.3150, 1.8976]])"
      ]
     },
     "execution_count": 114,
     "metadata": {},
     "output_type": "execute_result"
    }
   ],
   "source": [
    "x1=torch.rand((2,5))\n",
    "x2=torch.rand((5,3))\n",
    "x3=torch.mm(x1,x2)\n",
    "x3=x1.mm(x2)\n",
    "x3"
   ]
  },
  {
   "cell_type": "code",
   "execution_count": 116,
   "id": "9f67d2fb-0f3e-492a-bc71-13cf2f29759b",
   "metadata": {},
   "outputs": [
    {
     "data": {
      "text/plain": [
       "tensor([[1.4741, 2.6730, 2.8296, 3.2327, 3.0761],\n",
       "        [1.8151, 3.4860, 3.3026, 4.0410, 3.6526],\n",
       "        [1.6921, 3.1184, 3.0649, 3.6432, 3.4277],\n",
       "        [1.8586, 3.4959, 3.1775, 3.9840, 3.6745],\n",
       "        [1.0066, 1.7822, 1.5917, 1.9511, 1.9397]])"
      ]
     },
     "execution_count": 116,
     "metadata": {},
     "output_type": "execute_result"
    }
   ],
   "source": [
    "#mat exp\n",
    "matexp=torch.rand(5,5)\n",
    "matexp.matrix_power(3)"
   ]
  },
  {
   "cell_type": "code",
   "execution_count": 118,
   "id": "6d0a79da-573f-497f-84f9-a0daa331a805",
   "metadata": {},
   "outputs": [
    {
     "data": {
      "text/plain": [
       "tensor([1, 4, 9])"
      ]
     },
     "execution_count": 118,
     "metadata": {},
     "output_type": "execute_result"
    }
   ],
   "source": [
    "x*y"
   ]
  },
  {
   "cell_type": "code",
   "execution_count": 120,
   "id": "36c4042a-eed1-4e26-9784-d215cbd68a06",
   "metadata": {},
   "outputs": [
    {
     "data": {
      "text/plain": [
       "tensor(14)"
      ]
     },
     "execution_count": 120,
     "metadata": {},
     "output_type": "execute_result"
    }
   ],
   "source": [
    "torch.dot(x,y)"
   ]
  },
  {
   "cell_type": "code",
   "execution_count": 124,
   "id": "bfb71148-c78b-4519-abea-43d14330cfad",
   "metadata": {},
   "outputs": [
    {
     "data": {
      "text/plain": [
       "tensor([[[5.2549, 5.2565, 5.5706,  ..., 4.3706, 5.1653, 5.8851],\n",
       "         [4.2904, 2.9047, 3.7362,  ..., 2.4552, 4.1035, 4.2956],\n",
       "         [6.3197, 5.7477, 5.6252,  ..., 5.2820, 6.0436, 6.4713],\n",
       "         ...,\n",
       "         [6.8072, 6.1044, 5.4998,  ..., 4.0229, 5.8266, 5.7770],\n",
       "         [6.3722, 4.9611, 5.1927,  ..., 4.0660, 5.5647, 5.8470],\n",
       "         [5.5465, 4.2557, 4.0350,  ..., 4.4736, 4.6647, 5.3379]],\n",
       "\n",
       "        [[4.7787, 4.5251, 5.3048,  ..., 6.4734, 5.2561, 4.9065],\n",
       "         [5.2258, 4.5005, 5.2221,  ..., 6.7986, 5.8861, 5.7719],\n",
       "         [4.6290, 4.2067, 5.4348,  ..., 6.2343, 4.5252, 5.4324],\n",
       "         ...,\n",
       "         [4.9741, 4.0189, 4.2370,  ..., 5.6788, 5.1145, 5.0153],\n",
       "         [5.3952, 4.9016, 5.5679,  ..., 6.7903, 5.1485, 6.5982],\n",
       "         [4.4636, 3.5950, 4.7958,  ..., 6.0240, 5.3233, 4.6694]],\n",
       "\n",
       "        [[5.2468, 6.1160, 5.4565,  ..., 4.4645, 5.6030, 4.4872],\n",
       "         [4.5424, 5.1275, 4.5045,  ..., 4.5278, 4.3800, 4.4328],\n",
       "         [5.0191, 5.0591, 4.5545,  ..., 4.8397, 5.1702, 4.5335],\n",
       "         ...,\n",
       "         [4.9534, 5.9625, 4.9095,  ..., 4.4864, 5.3635, 4.1181],\n",
       "         [5.1511, 4.3895, 3.5595,  ..., 4.0660, 3.8214, 4.4427],\n",
       "         [5.2727, 5.9691, 4.8134,  ..., 4.9284, 4.2524, 4.7536]],\n",
       "\n",
       "        ...,\n",
       "\n",
       "        [[5.9806, 6.0952, 7.5983,  ..., 4.8957, 6.2746, 4.6345],\n",
       "         [4.8819, 3.7677, 4.9679,  ..., 3.2931, 4.0816, 3.2956],\n",
       "         [5.3484, 4.6715, 6.8008,  ..., 4.5190, 5.2045, 3.7740],\n",
       "         ...,\n",
       "         [5.9601, 5.4230, 7.3824,  ..., 4.8140, 5.8170, 4.3060],\n",
       "         [4.8865, 4.4997, 5.4101,  ..., 3.2479, 4.6037, 3.5046],\n",
       "         [5.3109, 4.7269, 6.8494,  ..., 4.0895, 5.8337, 4.4153]],\n",
       "\n",
       "        [[4.2915, 4.7203, 3.9366,  ..., 4.5961, 4.6604, 4.7439],\n",
       "         [4.3373, 6.3551, 5.4326,  ..., 5.7490, 5.8522, 5.2147],\n",
       "         [4.8339, 5.8243, 4.2700,  ..., 5.1972, 5.1432, 4.8388],\n",
       "         ...,\n",
       "         [4.4797, 4.9940, 4.3111,  ..., 5.3771, 5.5875, 4.8113],\n",
       "         [4.8455, 5.5670, 5.1815,  ..., 5.9664, 5.0278, 4.7930],\n",
       "         [4.8219, 5.1639, 5.1130,  ..., 5.3500, 5.3701, 4.8435]],\n",
       "\n",
       "        [[6.2255, 5.8591, 5.9876,  ..., 5.0559, 7.3563, 5.7116],\n",
       "         [5.7699, 5.1914, 4.9879,  ..., 4.6694, 5.4574, 4.4957],\n",
       "         [5.1677, 4.5159, 4.4300,  ..., 3.6873, 4.7749, 4.7204],\n",
       "         ...,\n",
       "         [5.4097, 5.2889, 3.7027,  ..., 3.8151, 4.7385, 4.8415],\n",
       "         [5.8295, 4.4569, 6.1171,  ..., 4.2146, 5.8136, 5.0567],\n",
       "         [6.3442, 5.8007, 5.7754,  ..., 4.5745, 5.5740, 4.7049]]])"
      ]
     },
     "execution_count": 124,
     "metadata": {},
     "output_type": "execute_result"
    }
   ],
   "source": [
    "#batch matrix multi\n",
    "batch=32\n",
    "n=10\n",
    "m=20\n",
    "p=30\n",
    "tensor1=torch.rand((batch,n,m))\n",
    "tensor2=torch.rand((batch,m,p))\n",
    "out=torch.bmm(tensor1,tensor2)\n",
    "out"
   ]
  },
  {
   "cell_type": "code",
   "execution_count": 126,
   "id": "034444c7-65d2-4cb9-98ed-7a87dea42fe3",
   "metadata": {},
   "outputs": [],
   "source": [
    "#broadcasting"
   ]
  },
  {
   "cell_type": "code",
   "execution_count": 132,
   "id": "7187d10b-89f2-4924-8414-fa5d9d42d094",
   "metadata": {},
   "outputs": [
    {
     "data": {
      "text/plain": [
       "tensor([[-0.0422, -0.1086, -0.2409, -0.1687,  0.0409],\n",
       "        [ 0.0872,  0.2846, -0.5525, -0.0680, -0.0312],\n",
       "        [ 0.5656,  0.7211, -0.0191,  0.0820, -0.2297],\n",
       "        [ 0.6565,  0.0910,  0.0370, -0.6663,  0.1081],\n",
       "        [ 0.3512,  0.4226, -0.2872, -0.1347, -0.6365]])"
      ]
     },
     "execution_count": 132,
     "metadata": {},
     "output_type": "execute_result"
    }
   ],
   "source": [
    "x1=torch.rand((5,5))\n",
    "x2=torch.rand((1,5))\n",
    "x1-x2\n",
    "#x2 will be expanded to amtch x1"
   ]
  },
  {
   "cell_type": "code",
   "execution_count": 134,
   "id": "c7488dfc-4366-4c52-af36-88cf71fce638",
   "metadata": {},
   "outputs": [
    {
     "data": {
      "text/plain": [
       "tensor([[0.7154, 0.5104, 0.6791, 0.6312, 0.9164],\n",
       "        [0.8052, 0.9022, 0.3788, 0.7134, 0.8529],\n",
       "        [0.9509, 0.9798, 0.8822, 0.8281, 0.6741],\n",
       "        [0.9682, 0.8374, 0.9327, 0.0370, 0.9749],\n",
       "        [0.9012, 0.9327, 0.6358, 0.6595, 0.2775]])"
      ]
     },
     "execution_count": 134,
     "metadata": {},
     "output_type": "execute_result"
    }
   ],
   "source": [
    "x1**x2"
   ]
  },
  {
   "cell_type": "code",
   "execution_count": 136,
   "id": "821485fc-e544-4dcc-ba40-83bf91909af5",
   "metadata": {},
   "outputs": [
    {
     "data": {
      "text/plain": [
       "tensor([-0.0499,  1.0890, -2.6341,  1.3426,  0.5395])"
      ]
     },
     "execution_count": 136,
     "metadata": {},
     "output_type": "execute_result"
    }
   ],
   "source": [
    "torch.sum(x,dim=0) #computes the sum of the elements of tensor x along the specified dimension dim."
   ]
  },
  {
   "cell_type": "code",
   "execution_count": 138,
   "id": "3e6b118b-30c7-46b0-9089-17e718e2f28a",
   "metadata": {},
   "outputs": [],
   "source": [
    "values,indices =torch.max(x,dim=0)"
   ]
  },
  {
   "cell_type": "code",
   "execution_count": 140,
   "id": "a7566558-7a83-4f30-adf6-daba527ef61e",
   "metadata": {},
   "outputs": [],
   "source": [
    "values,indices =torch.min(x,dim=0)"
   ]
  },
  {
   "cell_type": "code",
   "execution_count": 142,
   "id": "83175b90-0d9e-43d9-96cf-23e9abdf08b3",
   "metadata": {},
   "outputs": [
    {
     "data": {
      "text/plain": [
       "tensor([[0.2551, 0.7870, 0.9093, 0.1476, 0.2326],\n",
       "        [0.3243, 0.0261, 0.3971, 0.0713, 0.2453],\n",
       "        [0.1289, 0.3360, 0.6317, 0.5864, 0.2154],\n",
       "        [0.2327, 0.1673, 0.3149, 0.3397, 0.1339],\n",
       "        [0.1679, 0.1072, 0.3811, 0.6354, 0.1432]])"
      ]
     },
     "execution_count": 142,
     "metadata": {},
     "output_type": "execute_result"
    }
   ],
   "source": [
    "torch.abs(x)"
   ]
  },
  {
   "cell_type": "code",
   "execution_count": 144,
   "id": "100a0471-075f-4232-89f9-63ccba156bbd",
   "metadata": {},
   "outputs": [
    {
     "data": {
      "text/plain": [
       "tensor([3, 0, 3, 4, 1])"
      ]
     },
     "execution_count": 144,
     "metadata": {},
     "output_type": "execute_result"
    }
   ],
   "source": [
    "torch.argmax(x,dim=0)"
   ]
  },
  {
   "cell_type": "code",
   "execution_count": 146,
   "id": "717ecd09-10b8-4fd6-b00c-9333bae5ae54",
   "metadata": {},
   "outputs": [
    {
     "data": {
      "text/plain": [
       "tensor([-0.0100,  0.2178, -0.5268,  0.2685,  0.1079])"
      ]
     },
     "execution_count": 146,
     "metadata": {},
     "output_type": "execute_result"
    }
   ],
   "source": [
    "torch.mean(x.float(),dim=0)"
   ]
  },
  {
   "cell_type": "code",
   "execution_count": 156,
   "id": "f74a4da4-0b65-402b-8f33-846f22c5f7ee",
   "metadata": {},
   "outputs": [
    {
     "data": {
      "text/plain": [
       "tensor([[False, False, False, False, False],\n",
       "        [False, False, False, False, False],\n",
       "        [False, False, False, False, False],\n",
       "        [False, False, False, False, False],\n",
       "        [False, False, False, False, False]])"
      ]
     },
     "execution_count": 156,
     "metadata": {},
     "output_type": "execute_result"
    }
   ],
   "source": [
    "torch.eq(x,torch.rand((5,5)))"
   ]
  },
  {
   "cell_type": "code",
   "execution_count": 164,
   "id": "c875e24f-be29-4877-8306-21ec910f6df2",
   "metadata": {},
   "outputs": [],
   "source": [
    "sort_y,i=torch.sort(y,dim=0,descending=False)"
   ]
  },
  {
   "cell_type": "code",
   "execution_count": 172,
   "id": "057e9ca0-1aa2-4a03-a83c-8509dec5a436",
   "metadata": {},
   "outputs": [
    {
     "data": {
      "text/plain": [
       "tensor([[0.0000, 0.5000, 0.0000, 0.0000, 0.2326],\n",
       "        [0.0000, 0.0261, 0.0000, 0.0000, 0.2453],\n",
       "        [0.1289, 0.3360, 0.0000, 0.5000, 0.0000],\n",
       "        [0.2327, 0.0000, 0.0000, 0.3397, 0.1339],\n",
       "        [0.1679, 0.1072, 0.0000, 0.5000, 0.1432]])"
      ]
     },
     "execution_count": 172,
     "metadata": {},
     "output_type": "execute_result"
    }
   ],
   "source": [
    "torch.clamp(x,min=0, max=0.5)#all elements less than 0 and greater than 0.5 to be changed"
   ]
  },
  {
   "cell_type": "code",
   "execution_count": 178,
   "id": "0122c742-5979-418d-96d4-ec0e339d3601",
   "metadata": {},
   "outputs": [
    {
     "data": {
      "text/plain": [
       "tensor(True)"
      ]
     },
     "execution_count": 178,
     "metadata": {},
     "output_type": "execute_result"
    }
   ],
   "source": [
    "torch.any(torch.tensor([1,0,1,1,1],dtype=torch.bool))# any chcks if any value is true"
   ]
  },
  {
   "cell_type": "code",
   "execution_count": 182,
   "id": "dda9d857-e72c-4ba7-af36-ed0430513ed5",
   "metadata": {},
   "outputs": [
    {
     "data": {
      "text/plain": [
       "tensor(False)"
      ]
     },
     "execution_count": 182,
     "metadata": {},
     "output_type": "execute_result"
    }
   ],
   "source": [
    "torch.all(torch.tensor([1,0,1,1,1],dtype=torch.bool))# any chcks all any value is true"
   ]
  },
  {
   "cell_type": "code",
   "execution_count": 184,
   "id": "0f3e754e-6cc9-4916-a46e-fcebcc6064bf",
   "metadata": {},
   "outputs": [],
   "source": [
    "#tensor indexing"
   ]
  },
  {
   "cell_type": "code",
   "execution_count": 196,
   "id": "adda2b93-72d2-4b4d-80d2-7f971b7a3ecb",
   "metadata": {},
   "outputs": [
    {
     "data": {
      "text/plain": [
       "tensor([[0.8919, 0.9687, 0.9257, 0.3499, 0.6423, 0.6442, 0.5679, 0.7326, 0.1277,\n",
       "         0.8048, 0.2745, 0.4732, 0.8735, 0.5380, 0.8076, 0.6609, 0.1237, 0.5607,\n",
       "         0.7085, 0.9508, 0.5578, 0.8831, 0.8341, 0.9127, 0.0165],\n",
       "        [0.7642, 0.8679, 0.9612, 0.5886, 0.2205, 0.4917, 0.5733, 0.4573, 0.6489,\n",
       "         0.2188, 0.1785, 0.0144, 0.2616, 0.3898, 0.5944, 0.5220, 0.3789, 0.5004,\n",
       "         0.7569, 0.8570, 0.6055, 0.5091, 0.7529, 0.2436, 0.1720],\n",
       "        [0.2763, 0.7655, 0.9166, 0.6652, 0.8634, 0.4557, 0.2199, 0.4505, 0.9368,\n",
       "         0.7615, 0.1071, 0.3172, 0.4561, 0.9942, 0.6705, 0.9192, 0.8072, 0.9186,\n",
       "         0.8563, 0.0702, 0.7555, 0.9461, 0.6366, 0.5152, 0.6191],\n",
       "        [0.4452, 0.1487, 0.9984, 0.4323, 0.4658, 0.0288, 0.7537, 0.5552, 0.6124,\n",
       "         0.8957, 0.0256, 0.2970, 0.5390, 0.8238, 0.7479, 0.8516, 0.7000, 0.0264,\n",
       "         0.8362, 0.5223, 0.8453, 0.1484, 0.1467, 0.1007, 0.2879],\n",
       "        [0.4032, 0.5028, 0.5655, 0.8261, 0.6911, 0.9391, 0.8319, 0.2992, 0.6631,\n",
       "         0.4938, 0.4980, 0.0487, 0.8270, 0.6797, 0.0445, 0.1171, 0.3194, 0.3434,\n",
       "         0.4717, 0.2517, 0.1158, 0.9751, 0.6326, 0.3131, 0.5966],\n",
       "        [0.4920, 0.8504, 0.8665, 0.7964, 0.2708, 0.4635, 0.6746, 0.8075, 0.1439,\n",
       "         0.4061, 0.0194, 0.3963, 0.1221, 0.9807, 0.5821, 0.3602, 0.0650, 0.8421,\n",
       "         0.8871, 0.1874, 0.8782, 0.6689, 0.1079, 0.4130, 0.1625],\n",
       "        [0.9861, 0.4096, 0.5775, 0.2756, 0.4254, 0.3265, 0.7493, 0.0897, 0.7289,\n",
       "         0.0533, 0.2047, 0.1695, 0.6130, 0.5291, 0.0459, 0.1504, 0.1272, 0.4905,\n",
       "         0.6888, 0.9842, 0.1036, 0.1352, 0.8608, 0.6363, 0.6279],\n",
       "        [0.5928, 0.7416, 0.0838, 0.9270, 0.7239, 0.7070, 0.3379, 0.6238, 0.2661,\n",
       "         0.4069, 0.4276, 0.7110, 0.0174, 0.1487, 0.9325, 0.2138, 0.7740, 0.8283,\n",
       "         0.3277, 0.8341, 0.9118, 0.5150, 0.0971, 0.1185, 0.2260],\n",
       "        [0.6847, 0.3406, 0.7036, 0.2249, 0.0636, 0.0835, 0.6851, 0.6127, 0.5322,\n",
       "         0.8172, 0.4384, 0.8349, 0.1107, 0.5410, 0.5440, 0.3616, 0.9154, 0.9811,\n",
       "         0.6724, 0.2301, 0.2690, 0.6306, 0.2595, 0.3784, 0.1875],\n",
       "        [0.0041, 0.7574, 0.0658, 0.1117, 0.6146, 0.3566, 0.4991, 0.4271, 0.2761,\n",
       "         0.8963, 0.5623, 0.3753, 0.6111, 0.4656, 0.3780, 0.1196, 0.2937, 0.8540,\n",
       "         0.6871, 0.4765, 0.6988, 0.9632, 0.0279, 0.6341, 0.4196]])"
      ]
     },
     "execution_count": 196,
     "metadata": {},
     "output_type": "execute_result"
    }
   ],
   "source": [
    "batch_Size=10\n",
    "features=25\n",
    "X=torch.rand((batch_Size,features))\n",
    "X"
   ]
  },
  {
   "cell_type": "code",
   "execution_count": 200,
   "id": "34e01783-1956-4be9-9d0c-1c99354aa143",
   "metadata": {},
   "outputs": [
    {
     "data": {
      "text/plain": [
       "tensor([0.8919, 0.9687, 0.9257, 0.3499, 0.6423, 0.6442, 0.5679, 0.7326, 0.1277,\n",
       "        0.8048, 0.2745, 0.4732, 0.8735, 0.5380, 0.8076, 0.6609, 0.1237, 0.5607,\n",
       "        0.7085, 0.9508, 0.5578, 0.8831, 0.8341, 0.9127, 0.0165])"
      ]
     },
     "execution_count": 200,
     "metadata": {},
     "output_type": "execute_result"
    }
   ],
   "source": [
    "X[0].shape\n",
    "X[0]"
   ]
  },
  {
   "cell_type": "code",
   "execution_count": 202,
   "id": "80a28980-3ee4-41f6-9708-6a08a7ecd101",
   "metadata": {},
   "outputs": [
    {
     "data": {
      "text/plain": [
       "tensor([0.8919, 0.7642, 0.2763, 0.4452, 0.4032, 0.4920, 0.9861, 0.5928, 0.6847,\n",
       "        0.0041])"
      ]
     },
     "execution_count": 202,
     "metadata": {},
     "output_type": "execute_result"
    }
   ],
   "source": [
    "X[:,0].shape\n",
    "X[:,0]"
   ]
  },
  {
   "cell_type": "code",
   "execution_count": 192,
   "id": "a4fcc8b7-9fdb-43ea-8752-3c9f8c27ff2d",
   "metadata": {},
   "outputs": [
    {
     "data": {
      "text/plain": [
       "torch.Size([10])"
      ]
     },
     "execution_count": 192,
     "metadata": {},
     "output_type": "execute_result"
    }
   ],
   "source": [
    "X[2,0:10].shape"
   ]
  },
  {
   "cell_type": "code",
   "execution_count": 204,
   "id": "cf8b46c7-1833-4635-a8e9-5fbcc7328575",
   "metadata": {},
   "outputs": [
    {
     "data": {
      "text/plain": [
       "tensor([0.2763, 0.7655, 0.9166, 0.6652, 0.8634, 0.4557, 0.2199, 0.4505, 0.9368,\n",
       "        0.7615])"
      ]
     },
     "execution_count": 204,
     "metadata": {},
     "output_type": "execute_result"
    }
   ],
   "source": [
    "X[2,0:10]"
   ]
  },
  {
   "cell_type": "code",
   "execution_count": 206,
   "id": "498b5c7f-3c0f-47ef-acd7-720b490aa8b4",
   "metadata": {},
   "outputs": [],
   "source": [
    "X[0,0]=100"
   ]
  },
  {
   "cell_type": "code",
   "execution_count": 208,
   "id": "b45d9080-73f4-4a58-aba2-54a5b92f749f",
   "metadata": {},
   "outputs": [],
   "source": [
    "#fancy indexing"
   ]
  },
  {
   "cell_type": "code",
   "execution_count": 212,
   "id": "a41f33aa-b775-44ee-856b-407d2a9999de",
   "metadata": {},
   "outputs": [
    {
     "data": {
      "text/plain": [
       "tensor([2, 5, 8])"
      ]
     },
     "execution_count": 212,
     "metadata": {},
     "output_type": "execute_result"
    }
   ],
   "source": [
    "x=torch.arange(10)\n",
    "indi=[2,5,8]\n",
    "x[indi]"
   ]
  },
  {
   "cell_type": "code",
   "execution_count": 214,
   "id": "18b7bccd-66b3-4ac9-ab75-35664a9f1c61",
   "metadata": {},
   "outputs": [
    {
     "data": {
      "text/plain": [
       "tensor([0.0876, 0.8764])"
      ]
     },
     "execution_count": 214,
     "metadata": {},
     "output_type": "execute_result"
    }
   ],
   "source": [
    "x=torch.rand((3,5))\n",
    "r=torch.tensor([1,0])\n",
    "c=torch.tensor([4,0])\n",
    "x[r,c]"
   ]
  },
  {
   "cell_type": "code",
   "execution_count": 216,
   "id": "d35f189b-8324-4765-98a1-50ad45c36ec6",
   "metadata": {},
   "outputs": [
    {
     "data": {
      "text/plain": [
       "tensor([[0.8764, 0.2231, 0.2135, 0.6565, 0.6864],\n",
       "        [0.3607, 0.9461, 0.2971, 0.2489, 0.0876],\n",
       "        [0.4667, 0.8502, 0.7551, 0.3641, 0.9040]])"
      ]
     },
     "execution_count": 216,
     "metadata": {},
     "output_type": "execute_result"
    }
   ],
   "source": [
    "x"
   ]
  },
  {
   "cell_type": "code",
   "execution_count": 220,
   "id": "7aa9f79a-9fc9-4e82-8df9-1d64168b7cfb",
   "metadata": {},
   "outputs": [
    {
     "data": {
      "text/plain": [
       "tensor([0.8764, 0.2231, 0.2135, 0.6565, 0.6864, 0.3607, 0.9461, 0.2971, 0.2489,\n",
       "        0.0876, 0.4667, 0.8502, 0.7551, 0.3641, 0.9040])"
      ]
     },
     "execution_count": 220,
     "metadata": {},
     "output_type": "execute_result"
    }
   ],
   "source": [
    "x[(x<2)|(x>8)]"
   ]
  },
  {
   "cell_type": "code",
   "execution_count": 226,
   "id": "e2212a95-8d62-4efa-8fa8-0de2c3c2e6d0",
   "metadata": {},
   "outputs": [
    {
     "data": {
      "text/plain": [
       "tensor([])"
      ]
     },
     "execution_count": 226,
     "metadata": {},
     "output_type": "execute_result"
    }
   ],
   "source": [
    "x[x.remainder(2)==0]"
   ]
  },
  {
   "cell_type": "code",
   "execution_count": 230,
   "id": "20c8c52b-1972-4510-a75d-bdc63db6049c",
   "metadata": {},
   "outputs": [
    {
     "data": {
      "text/plain": [
       "tensor([[1.7529, 0.4461, 0.4269, 1.3131, 1.3729],\n",
       "        [0.7214, 1.8922, 0.5941, 0.4977, 0.1753],\n",
       "        [0.9334, 1.7004, 1.5102, 0.7283, 1.8079]])"
      ]
     },
     "execution_count": 230,
     "metadata": {},
     "output_type": "execute_result"
    }
   ],
   "source": [
    "torch.where(x>5,x,x*2)# if value <5 then same else x2"
   ]
  },
  {
   "cell_type": "code",
   "execution_count": 232,
   "id": "70c4de22-8213-45bd-b277-6c69006be201",
   "metadata": {},
   "outputs": [
    {
     "data": {
      "text/plain": [
       "tensor([0, 1, 2, 3, 4])"
      ]
     },
     "execution_count": 232,
     "metadata": {},
     "output_type": "execute_result"
    }
   ],
   "source": [
    "torch.tensor([0,0,1,2,2,3,4]).unique()"
   ]
  },
  {
   "cell_type": "code",
   "execution_count": 234,
   "id": "3738bb6e-fa12-493a-8bf9-cda1dbc187f9",
   "metadata": {},
   "outputs": [
    {
     "data": {
      "text/plain": [
       "2"
      ]
     },
     "execution_count": 234,
     "metadata": {},
     "output_type": "execute_result"
    }
   ],
   "source": [
    "x.ndimension()"
   ]
  },
  {
   "cell_type": "code",
   "execution_count": 236,
   "id": "426539be-fd35-421a-a772-57b2555dbc0c",
   "metadata": {},
   "outputs": [],
   "source": [
    "#tensor reshaping"
   ]
  },
  {
   "cell_type": "code",
   "execution_count": 238,
   "id": "3897a762-fc66-4eb8-ad6d-6665d3c9c182",
   "metadata": {},
   "outputs": [],
   "source": [
    "x=torch.arange(9)"
   ]
  },
  {
   "cell_type": "code",
   "execution_count": 240,
   "id": "3f04d2dd-7d65-4a89-88e0-aacb3fbf397d",
   "metadata": {},
   "outputs": [
    {
     "data": {
      "text/plain": [
       "tensor([0, 1, 2, 3, 4, 5, 6, 7, 8])"
      ]
     },
     "execution_count": 240,
     "metadata": {},
     "output_type": "execute_result"
    }
   ],
   "source": [
    "x"
   ]
  },
  {
   "cell_type": "code",
   "execution_count": 242,
   "id": "90fd83d0-835f-4b8b-aa8a-4ff508c181a9",
   "metadata": {},
   "outputs": [],
   "source": [
    "x_3x3=x.view(3,3)"
   ]
  },
  {
   "cell_type": "code",
   "execution_count": 244,
   "id": "1532c228-898a-4079-a987-cbabd2df8f2f",
   "metadata": {},
   "outputs": [
    {
     "data": {
      "text/plain": [
       "tensor([[0, 1, 2],\n",
       "        [3, 4, 5],\n",
       "        [6, 7, 8]])"
      ]
     },
     "execution_count": 244,
     "metadata": {},
     "output_type": "execute_result"
    }
   ],
   "source": [
    "x_3x3"
   ]
  },
  {
   "cell_type": "code",
   "execution_count": 246,
   "id": "07b86898-fbde-439d-a90b-be76090195ba",
   "metadata": {},
   "outputs": [
    {
     "data": {
      "text/plain": [
       "tensor([[0, 1, 2],\n",
       "        [3, 4, 5],\n",
       "        [6, 7, 8]])"
      ]
     },
     "execution_count": 246,
     "metadata": {},
     "output_type": "execute_result"
    }
   ],
   "source": [
    "x.reshape(3,3)"
   ]
  },
  {
   "cell_type": "code",
   "execution_count": 252,
   "id": "b240e388-0429-4c0f-9219-dd134bd5b309",
   "metadata": {},
   "outputs": [],
   "source": [
    "y=x_3x3.t()#transpsoe"
   ]
  },
  {
   "cell_type": "code",
   "execution_count": 254,
   "id": "701f673a-42e2-4680-a54b-cad0a72e4bcd",
   "metadata": {},
   "outputs": [
    {
     "data": {
      "text/plain": [
       "tensor([[0, 3, 6],\n",
       "        [1, 4, 7],\n",
       "        [2, 5, 8]])"
      ]
     },
     "execution_count": 254,
     "metadata": {},
     "output_type": "execute_result"
    }
   ],
   "source": [
    "y"
   ]
  },
  {
   "cell_type": "code",
   "execution_count": 258,
   "id": "58e23b92-2207-4655-b3d2-61fe5e697576",
   "metadata": {},
   "outputs": [
    {
     "data": {
      "text/plain": [
       "tensor([0, 3, 6, 1, 4, 7, 2, 5, 8])"
      ]
     },
     "execution_count": 258,
     "metadata": {},
     "output_type": "execute_result"
    }
   ],
   "source": [
    "y.contiguous().view(9)"
   ]
  },
  {
   "cell_type": "code",
   "execution_count": 268,
   "id": "0961bc65-eaa6-4898-b05c-fc4c0f575854",
   "metadata": {},
   "outputs": [],
   "source": [
    "x1=torch.rand((2,5))\n",
    "x2=torch.rand((2,5))"
   ]
  },
  {
   "cell_type": "code",
   "execution_count": 272,
   "id": "1512c94b-92ab-4521-92a6-df46e5359ceb",
   "metadata": {},
   "outputs": [
    {
     "data": {
      "text/plain": [
       "torch.Size([4, 5])"
      ]
     },
     "execution_count": 272,
     "metadata": {},
     "output_type": "execute_result"
    }
   ],
   "source": [
    "torch.cat((x1,x2),dim=0).shape"
   ]
  },
  {
   "cell_type": "code",
   "execution_count": 274,
   "id": "9f893e90-7dc6-4f8f-9936-19b12988fa2b",
   "metadata": {},
   "outputs": [
    {
     "data": {
      "text/plain": [
       "torch.Size([2, 10])"
      ]
     },
     "execution_count": 274,
     "metadata": {},
     "output_type": "execute_result"
    }
   ],
   "source": [
    "torch.cat((x1,x2),dim=1).shape"
   ]
  },
  {
   "cell_type": "code",
   "execution_count": 280,
   "id": "4e06f9dc-f547-4a51-add5-adb36d3e2ef1",
   "metadata": {},
   "outputs": [
    {
     "data": {
      "text/plain": [
       "tensor([0.7730, 0.6918, 0.3312, 0.5802, 0.7374, 0.0573, 0.0585, 0.1592, 0.3776,\n",
       "        0.1139])"
      ]
     },
     "execution_count": 280,
     "metadata": {},
     "output_type": "execute_result"
    }
   ],
   "source": [
    "x1.view(-1)#flatten"
   ]
  },
  {
   "cell_type": "code",
   "execution_count": 282,
   "id": "fc28e2c2-9251-4da3-9605-6512e3abfd19",
   "metadata": {},
   "outputs": [
    {
     "data": {
      "text/plain": [
       "torch.Size([64, 10])"
      ]
     },
     "execution_count": 282,
     "metadata": {},
     "output_type": "execute_result"
    }
   ],
   "source": [
    "x=torch.rand((64,2,5))\n",
    "z=x.view(64,-1)\n",
    "z.shape"
   ]
  },
  {
   "cell_type": "code",
   "execution_count": 286,
   "id": "86657d33-6000-4fec-a274-72f128e3c4c9",
   "metadata": {},
   "outputs": [],
   "source": [
    "z=x.permute(0,2,1)"
   ]
  },
  {
   "cell_type": "code",
   "execution_count": null,
   "id": "2db41bbd-1eb1-4782-babb-76e50e1aea59",
   "metadata": {},
   "outputs": [],
   "source": []
  }
 ],
 "metadata": {
  "kernelspec": {
   "display_name": "Python 3 (ipykernel)",
   "language": "python",
   "name": "python3"
  },
  "language_info": {
   "codemirror_mode": {
    "name": "ipython",
    "version": 3
   },
   "file_extension": ".py",
   "mimetype": "text/x-python",
   "name": "python",
   "nbconvert_exporter": "python",
   "pygments_lexer": "ipython3",
   "version": "3.12.4"
  }
 },
 "nbformat": 4,
 "nbformat_minor": 5
}
