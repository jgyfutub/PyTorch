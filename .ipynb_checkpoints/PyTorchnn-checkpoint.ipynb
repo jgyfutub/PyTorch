{
 "cells": [
  {
   "cell_type": "code",
   "execution_count": 67,
   "id": "0b1a9de4-45c0-4695-a9dd-8c57075a1d7a",
   "metadata": {},
   "outputs": [],
   "source": [
    "#imports\n",
    "import torch\n",
    "import torch.nn as nn\n",
    "import torch.optim as optim\n",
    "import torch.nn.functional as F\n",
    "from torch.utils.data import DataLoader\n",
    "import torchvision.datasets as datasets\n",
    "import torchvision.transforms as transforms"
   ]
  },
  {
   "cell_type": "code",
   "execution_count": 69,
   "id": "e3813172-1f5f-457a-b0ac-4481648eb182",
   "metadata": {},
   "outputs": [
    {
     "name": "stdout",
     "output_type": "stream",
     "text": [
      "torch.Size([64, 10])\n"
     ]
    }
   ],
   "source": [
    "class NN(nn.Module):\n",
    "    def __init__(self,input_size,num_classes):#(28x28=784)\n",
    "        super(NN,self).__init__()\n",
    "        self.fc1=nn.Linear(input_size,50)\n",
    "        self.fc2=nn.Linear(50,num_classes)\n",
    "\n",
    "    def forward(self,x):\n",
    "        x=F.relu(self.fc1(x))\n",
    "        x=self.fc2(x)\n",
    "        return x\n",
    "\n",
    "model=NN(784,10)\n",
    "x=torch.rand(64,784)\n",
    "print(model(x).shape)"
   ]
  },
  {
   "cell_type": "code",
   "execution_count": 71,
   "id": "2d59c538-8891-4937-8d7f-d32e1a090022",
   "metadata": {},
   "outputs": [],
   "source": [
    "i_size=784\n",
    "n_class=10\n",
    "l_rate=0.001\n",
    "b_sze=64\n",
    "n_epochs=1"
   ]
  },
  {
   "cell_type": "code",
   "execution_count": 73,
   "id": "e3d4693e-3e94-448d-8be9-b15da9f06af3",
   "metadata": {},
   "outputs": [],
   "source": [
    "train=datasets.MNIST(root='dataset/',train=True,transform=transforms.ToTensor(),download=True)"
   ]
  },
  {
   "cell_type": "code",
   "execution_count": 75,
   "id": "2dc3e0f6-b763-43e5-a979-2daec194e60e",
   "metadata": {},
   "outputs": [],
   "source": [
    "train_load=DataLoader(dataset=train,batch_size=b_sze,shuffle=True)"
   ]
  },
  {
   "cell_type": "code",
   "execution_count": 77,
   "id": "a5199ad1-e71f-4d08-b206-02e7165ddb1e",
   "metadata": {},
   "outputs": [],
   "source": [
    "test=datasets.MNIST(root='dataset/',train=False,transform=transforms.ToTensor(),download=True)\n",
    "test_load=DataLoader(dataset=test,batch_size=b_sze,shuffle=True)"
   ]
  },
  {
   "cell_type": "code",
   "execution_count": 79,
   "id": "2028a16b-322a-4d34-bd85-fdd2ef908e9e",
   "metadata": {},
   "outputs": [],
   "source": [
    "model=NN(input_size=i_size,num_classes=n_class)"
   ]
  },
  {
   "cell_type": "code",
   "execution_count": 81,
   "id": "937ad94e-dbee-44c3-8512-551d3da716e4",
   "metadata": {},
   "outputs": [],
   "source": [
    "criterion=nn.CrossEntropyLoss()"
   ]
  },
  {
   "cell_type": "code",
   "execution_count": 83,
   "id": "3589a60a-0fb1-4fe7-a06e-c3df0a7ee33a",
   "metadata": {},
   "outputs": [],
   "source": [
    "optimizer=optim.Adam(model.parameters(),lr=l_rate)"
   ]
  },
  {
   "cell_type": "code",
   "execution_count": 85,
   "id": "086b16fa-7ab6-4f99-be94-01592e5837c7",
   "metadata": {},
   "outputs": [],
   "source": [
    "for epoch in range(n_epochs):\n",
    "    for batch_id,(data,targets) in enumerate(train_load):\n",
    "        data=data.reshape(data.shape[0],-1)\n",
    "        scores=model(data)\n",
    "        loss=criterion(scores,targets)\n",
    "        optimizer.zero_grad()\n",
    "        loss.backward()\n",
    "        optimizer.step()"
   ]
  },
  {
   "cell_type": "code",
   "execution_count": 86,
   "id": "cb1b8d21-6c0c-488b-a9af-683bd813fe29",
   "metadata": {},
   "outputs": [],
   "source": [
    "def check_acc(loader,model):\n",
    "    n_corr=0\n",
    "    n_samp=0\n",
    "    model.eval()\n",
    "    with torch.no_grad():\n",
    "        for x,y in loader:\n",
    "            x=x.reshape(x.shape[0],-1)\n",
    "            scores=model(x)\n",
    "            _,predictions=scores.max(1)\n",
    "            n_corr+=(predictions==y).sum()\n",
    "            n_samp+=predictions.size(0)\n",
    "    model.train()\n",
    "    return n_corr/n_samp\n",
    "            "
   ]
  },
  {
   "cell_type": "code",
   "execution_count": 87,
   "id": "7cefe88b-987d-4e9d-b4df-84b5e4b9807b",
   "metadata": {},
   "outputs": [
    {
     "data": {
      "text/plain": [
       "tensor(0.9291)"
      ]
     },
     "execution_count": 87,
     "metadata": {},
     "output_type": "execute_result"
    }
   ],
   "source": [
    "check_acc(train_load,model)"
   ]
  },
  {
   "cell_type": "code",
   "execution_count": 88,
   "id": "0470bd06-3e13-46c0-97ca-d63075624717",
   "metadata": {},
   "outputs": [
    {
     "data": {
      "text/plain": [
       "tensor(0.9287)"
      ]
     },
     "execution_count": 88,
     "metadata": {},
     "output_type": "execute_result"
    }
   ],
   "source": [
    "check_acc(test_load,model)"
   ]
  }
 ],
 "metadata": {
  "kernelspec": {
   "display_name": "Python 3 (ipykernel)",
   "language": "python",
   "name": "python3"
  },
  "language_info": {
   "codemirror_mode": {
    "name": "ipython",
    "version": 3
   },
   "file_extension": ".py",
   "mimetype": "text/x-python",
   "name": "python",
   "nbconvert_exporter": "python",
   "pygments_lexer": "ipython3",
   "version": "3.12.4"
  }
 },
 "nbformat": 4,
 "nbformat_minor": 5
}
