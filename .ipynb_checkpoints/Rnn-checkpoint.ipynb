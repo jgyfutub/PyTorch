{
 "cells": [
  {
   "cell_type": "code",
   "execution_count": 3,
   "id": "0b1a9de4-45c0-4695-a9dd-8c57075a1d7a",
   "metadata": {},
   "outputs": [],
   "source": [
    "#imports\n",
    "import torch\n",
    "import torch.nn as nn\n",
    "import torch.optim as optim\n",
    "import torch.nn.functional as F\n",
    "from torch.utils.data import DataLoader\n",
    "import torchvision.datasets as datasets\n",
    "import torchvision.transforms as transforms"
   ]
  },
  {
   "cell_type": "code",
   "execution_count": 4,
   "id": "2d59c538-8891-4937-8d7f-d32e1a090022",
   "metadata": {},
   "outputs": [],
   "source": [
    "i_size=28\n",
    "seq_size=28\n",
    "num_layers=2\n",
    "hidden_size=256\n",
    "n_class=10\n",
    "l_rate=0.001\n",
    "b_sze=64\n",
    "n_epochs=1"
   ]
  },
  {
   "cell_type": "code",
   "execution_count": 5,
   "id": "e3813172-1f5f-457a-b0ac-4481648eb182",
   "metadata": {},
   "outputs": [
    {
     "ename": "NameError",
     "evalue": "name 'n_classes' is not defined",
     "output_type": "error",
     "traceback": [
      "\u001b[0;31m---------------------------------------------------------------------------\u001b[0m",
      "\u001b[0;31mNameError\u001b[0m                                 Traceback (most recent call last)",
      "Cell \u001b[0;32mIn[5], line 17\u001b[0m\n\u001b[1;32m     14\u001b[0m         out\u001b[38;5;241m=\u001b[39m\u001b[38;5;28mself\u001b[39m\u001b[38;5;241m.\u001b[39mfc(out)\n\u001b[1;32m     15\u001b[0m         \u001b[38;5;28;01mreturn\u001b[39;00m out\n\u001b[0;32m---> 17\u001b[0m model\u001b[38;5;241m=\u001b[39mRNN(i_size,hidden_size,num_layers,n_classes)\n",
      "\u001b[0;31mNameError\u001b[0m: name 'n_classes' is not defined"
     ]
    }
   ],
   "source": [
    "class RNN(nn.Module):\n",
    "    def __init__(self,input_size,hidden_size,num_layers,num_classes):\n",
    "        super(RNN,self).__init__()\n",
    "        self.hidden_size=hidden_size\n",
    "        self.num_layers=num_layers\n",
    "        self.rnn=nn.RNN(input_size,hidden_size,num_layers,batch_first=True)#can use gru also\n",
    "        self.fc=nn.Linear(hidden_size*sequence_length,num_classes)\n",
    "\n",
    "    def forward(self,x):\n",
    "        h0=torch.zeros(self.num_layers,x.size(0),self.hidden_size)\n",
    "\n",
    "        out,_=self.rnn(x,h0)\n",
    "        out=out.reshape(out.shape[0],-1)\n",
    "        out=self.fc(out)\n",
    "        return out\n",
    "\n",
    "\n",
    "class LSTM(nn.Module):\n",
    "    def __init__(self,input_size,hidden_size,num_layers,num_classes):\n",
    "        super(LSTM,self).__init__()\n",
    "        self.hidden_size=hidden_size\n",
    "        self.num_layers=num_layers\n",
    "        self.lstm=nn.LSTM(input_size,hidden_size,num_layers,batch_first=True)#can use gru also\n",
    "        self.fc=nn.Linear(hidden_size*sequence_length,num_classes)\n",
    "\n",
    "    def forward(self,x):\n",
    "        h0=torch.zeros(self.num_layers,x.size(0),self.hidden_size)\n",
    "        c0=torch.zeros(self.num_layers,x.size(0),self.hidden_size)\n",
    "\n",
    "        out,_=self.rnn(x,(h0,c0))\n",
    "        out=self.fc(out[:,-1,:])\n",
    "        return out\n",
    "\n",
    "\n",
    "model=RNN(i_size,hidden_size,num_layers,n_class)\n",
    "# x=torch.rand(64,784)\n",
    "# print(model(x).shape)"
   ]
  },
  {
   "cell_type": "code",
   "execution_count": null,
   "id": "3db81135-a22b-4f63-ad4c-2448f9a52672",
   "metadata": {},
   "outputs": [],
   "source": [
    "def save_checkpoint(state,filename=\"myc.pth.tor\"):\n",
    "    torch.save(state,filename)\n",
    "\n",
    "def load_checkpoint(checkpoint):\n",
    "    model.load_state_dict(checkpoint['state_dict'])\n",
    "    optimizer.load_state_dict(checkpoint['optimizer'])"
   ]
  },
  {
   "cell_type": "code",
   "execution_count": null,
   "id": "e3d4693e-3e94-448d-8be9-b15da9f06af3",
   "metadata": {},
   "outputs": [],
   "source": [
    "train=datasets.MNIST(root='dataset/',train=True,transform=transforms.ToTensor(),download=True)"
   ]
  },
  {
   "cell_type": "code",
   "execution_count": 8,
   "id": "2dc3e0f6-b763-43e5-a979-2daec194e60e",
   "metadata": {},
   "outputs": [
    {
     "ename": "NameError",
     "evalue": "name 'train' is not defined",
     "output_type": "error",
     "traceback": [
      "\u001b[0;31m---------------------------------------------------------------------------\u001b[0m",
      "\u001b[0;31mNameError\u001b[0m                                 Traceback (most recent call last)",
      "Cell \u001b[0;32mIn[8], line 1\u001b[0m\n\u001b[0;32m----> 1\u001b[0m train_load\u001b[38;5;241m=\u001b[39mDataLoader(dataset\u001b[38;5;241m=\u001b[39mtrain,batch_size\u001b[38;5;241m=\u001b[39mb_sze,shuffle\u001b[38;5;241m=\u001b[39m\u001b[38;5;28;01mTrue\u001b[39;00m)\n",
      "\u001b[0;31mNameError\u001b[0m: name 'train' is not defined"
     ]
    }
   ],
   "source": [
    "train_load=DataLoader(dataset=train,batch_size=b_sze,shuffle=True)"
   ]
  },
  {
   "cell_type": "code",
   "execution_count": 10,
   "id": "a5199ad1-e71f-4d08-b206-02e7165ddb1e",
   "metadata": {},
   "outputs": [],
   "source": [
    "test=datasets.MNIST(root='dataset/',train=False,transform=transforms.ToTensor(),download=True)\n",
    "test_load=DataLoader(dataset=test,batch_size=b_sze,shuffle=True)"
   ]
  },
  {
   "cell_type": "code",
   "execution_count": 12,
   "id": "2028a16b-322a-4d34-bd85-fdd2ef908e9e",
   "metadata": {},
   "outputs": [
    {
     "ename": "NameError",
     "evalue": "name 'NN' is not defined",
     "output_type": "error",
     "traceback": [
      "\u001b[0;31m---------------------------------------------------------------------------\u001b[0m",
      "\u001b[0;31mNameError\u001b[0m                                 Traceback (most recent call last)",
      "Cell \u001b[0;32mIn[12], line 1\u001b[0m\n\u001b[0;32m----> 1\u001b[0m model\u001b[38;5;241m=\u001b[39mNN(input_size\u001b[38;5;241m=\u001b[39mi_size,num_classes\u001b[38;5;241m=\u001b[39mn_class)\n",
      "\u001b[0;31mNameError\u001b[0m: name 'NN' is not defined"
     ]
    }
   ],
   "source": [
    "model=NN(input_size=i_size,num_classes=n_class)"
   ]
  },
  {
   "cell_type": "code",
   "execution_count": 14,
   "id": "937ad94e-dbee-44c3-8512-551d3da716e4",
   "metadata": {},
   "outputs": [],
   "source": [
    "criterion=nn.CrossEntropyLoss()"
   ]
  },
  {
   "cell_type": "code",
   "execution_count": 16,
   "id": "3589a60a-0fb1-4fe7-a06e-c3df0a7ee33a",
   "metadata": {},
   "outputs": [
    {
     "ename": "NameError",
     "evalue": "name 'model' is not defined",
     "output_type": "error",
     "traceback": [
      "\u001b[0;31m---------------------------------------------------------------------------\u001b[0m",
      "\u001b[0;31mNameError\u001b[0m                                 Traceback (most recent call last)",
      "Cell \u001b[0;32mIn[16], line 1\u001b[0m\n\u001b[0;32m----> 1\u001b[0m optimizer\u001b[38;5;241m=\u001b[39moptim\u001b[38;5;241m.\u001b[39mAdam(model\u001b[38;5;241m.\u001b[39mparameters(),lr\u001b[38;5;241m=\u001b[39ml_rate)\n",
      "\u001b[0;31mNameError\u001b[0m: name 'model' is not defined"
     ]
    }
   ],
   "source": [
    "optimizer=optim.Adam(model.parameters(),lr=l_rate)"
   ]
  },
  {
   "cell_type": "code",
   "execution_count": 18,
   "id": "086b16fa-7ab6-4f99-be94-01592e5837c7",
   "metadata": {},
   "outputs": [
    {
     "ename": "NameError",
     "evalue": "name 'train_load' is not defined",
     "output_type": "error",
     "traceback": [
      "\u001b[0;31m---------------------------------------------------------------------------\u001b[0m",
      "\u001b[0;31mNameError\u001b[0m                                 Traceback (most recent call last)",
      "Cell \u001b[0;32mIn[18], line 2\u001b[0m\n\u001b[1;32m      1\u001b[0m \u001b[38;5;28;01mfor\u001b[39;00m epoch \u001b[38;5;129;01min\u001b[39;00m \u001b[38;5;28mrange\u001b[39m(n_epochs):\n\u001b[0;32m----> 2\u001b[0m     \u001b[38;5;28;01mfor\u001b[39;00m batch_id,(data,targets) \u001b[38;5;129;01min\u001b[39;00m \u001b[38;5;28menumerate\u001b[39m(train_load):\n\u001b[1;32m      3\u001b[0m         data\u001b[38;5;241m=\u001b[39mdata\u001b[38;5;241m.\u001b[39msqueeze(\u001b[38;5;241m1\u001b[39m)\n\u001b[1;32m      4\u001b[0m         scores\u001b[38;5;241m=\u001b[39mmodel(data)\n",
      "\u001b[0;31mNameError\u001b[0m: name 'train_load' is not defined"
     ]
    }
   ],
   "source": [
    "for epoch in range(n_epochs):\n",
    "    if epoch==2:\n",
    "        check={'state_dict':model.state_dict(),'optimizer':optimizer.state_dict()}\n",
    "    for batch_id,(data,targets) in enumerate(train_load):\n",
    "        data=data.squeeze(1)\n",
    "        scores=model(data)\n",
    "        loss=criterion(scores,targets)\n",
    "        optimizer.zero_grad()\n",
    "        loss.backward()\n",
    "        optimizer.step()"
   ]
  },
  {
   "cell_type": "code",
   "execution_count": 20,
   "id": "cb1b8d21-6c0c-488b-a9af-683bd813fe29",
   "metadata": {},
   "outputs": [],
   "source": [
    "def check_acc(loader,model):\n",
    "    n_corr=0\n",
    "    n_samp=0\n",
    "    model.eval()\n",
    "    with torch.no_grad():\n",
    "        for x,y in loader:\n",
    "            scores=model(x)\n",
    "            _,predictions=scores.max(1)\n",
    "            n_corr+=(predictions==y).sum()\n",
    "            n_samp+=predictions.size(0)\n",
    "    model.train()\n",
    "    return n_corr/n_samp\n",
    "            "
   ]
  },
  {
   "cell_type": "code",
   "execution_count": 22,
   "id": "7cefe88b-987d-4e9d-b4df-84b5e4b9807b",
   "metadata": {},
   "outputs": [
    {
     "ename": "NameError",
     "evalue": "name 'train_load' is not defined",
     "output_type": "error",
     "traceback": [
      "\u001b[0;31m---------------------------------------------------------------------------\u001b[0m",
      "\u001b[0;31mNameError\u001b[0m                                 Traceback (most recent call last)",
      "Cell \u001b[0;32mIn[22], line 1\u001b[0m\n\u001b[0;32m----> 1\u001b[0m check_acc(train_load,model)\n",
      "\u001b[0;31mNameError\u001b[0m: name 'train_load' is not defined"
     ]
    }
   ],
   "source": [
    "check_acc(train_load,model)"
   ]
  },
  {
   "cell_type": "code",
   "execution_count": 24,
   "id": "0470bd06-3e13-46c0-97ca-d63075624717",
   "metadata": {},
   "outputs": [
    {
     "ename": "NameError",
     "evalue": "name 'model' is not defined",
     "output_type": "error",
     "traceback": [
      "\u001b[0;31m---------------------------------------------------------------------------\u001b[0m",
      "\u001b[0;31mNameError\u001b[0m                                 Traceback (most recent call last)",
      "Cell \u001b[0;32mIn[24], line 1\u001b[0m\n\u001b[0;32m----> 1\u001b[0m check_acc(test_load,model)\n",
      "\u001b[0;31mNameError\u001b[0m: name 'model' is not defined"
     ]
    }
   ],
   "source": [
    "check_acc(test_load,model)"
   ]
  },
  {
   "cell_type": "code",
   "execution_count": null,
   "id": "f7c1ddd7-9038-4b37-9dbe-16c5bb03c22b",
   "metadata": {},
   "outputs": [],
   "source": []
  },
  {
   "cell_type": "code",
   "execution_count": null,
   "id": "8dbd9be6-e5b4-49c0-b7df-386ce9d517ac",
   "metadata": {},
   "outputs": [],
   "source": []
  },
  {
   "cell_type": "code",
   "execution_count": null,
   "id": "3612d580-6971-46e2-8fec-421d4263bad5",
   "metadata": {},
   "outputs": [],
   "source": []
  },
  {
   "cell_type": "code",
   "execution_count": null,
   "id": "4009e975-0986-4d2e-85ab-c3cece1b9e6d",
   "metadata": {},
   "outputs": [],
   "source": []
  },
  {
   "cell_type": "code",
   "execution_count": null,
   "id": "77dd8482-ee3f-469b-98ac-06f020df5afe",
   "metadata": {},
   "outputs": [],
   "source": []
  },
  {
   "cell_type": "code",
   "execution_count": null,
   "id": "2d069838-17af-4c04-ac30-51677d3555f8",
   "metadata": {},
   "outputs": [],
   "source": []
  },
  {
   "cell_type": "code",
   "execution_count": null,
   "id": "d5eb2958-58e4-4727-976c-30236284bca7",
   "metadata": {},
   "outputs": [],
   "source": []
  },
  {
   "cell_type": "code",
   "execution_count": null,
   "id": "cf305ea0-6df9-44a3-9085-0e93be1d98c7",
   "metadata": {},
   "outputs": [],
   "source": []
  },
  {
   "cell_type": "code",
   "execution_count": null,
   "id": "dd079c57-8c33-4b02-9fb9-3af38637b063",
   "metadata": {},
   "outputs": [],
   "source": []
  },
  {
   "cell_type": "code",
   "execution_count": null,
   "id": "46a71a05-dcbe-4d75-ad9a-b3b53b1085f0",
   "metadata": {},
   "outputs": [],
   "source": []
  },
  {
   "cell_type": "code",
   "execution_count": null,
   "id": "8151e52a-fe30-49d9-9d54-352117511b6e",
   "metadata": {},
   "outputs": [],
   "source": []
  },
  {
   "cell_type": "code",
   "execution_count": null,
   "id": "8dc5a81d-c5e1-4956-aa45-bf1e6e413b29",
   "metadata": {},
   "outputs": [],
   "source": []
  },
  {
   "cell_type": "code",
   "execution_count": null,
   "id": "3384b2a4-9bac-4336-b307-b3567e0659a1",
   "metadata": {},
   "outputs": [],
   "source": []
  },
  {
   "cell_type": "code",
   "execution_count": null,
   "id": "96659db3-e788-497e-ad0e-bb81156b16ee",
   "metadata": {},
   "outputs": [],
   "source": []
  }
 ],
 "metadata": {
  "kernelspec": {
   "display_name": "Python 3 (ipykernel)",
   "language": "python",
   "name": "python3"
  },
  "language_info": {
   "codemirror_mode": {
    "name": "ipython",
    "version": 3
   },
   "file_extension": ".py",
   "mimetype": "text/x-python",
   "name": "python",
   "nbconvert_exporter": "python",
   "pygments_lexer": "ipython3",
   "version": "3.12.4"
  }
 },
 "nbformat": 4,
 "nbformat_minor": 5
}
