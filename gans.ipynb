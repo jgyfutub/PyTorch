{
 "cells": [
  {
   "cell_type": "code",
   "execution_count": 24,
   "id": "5d0206d6-ff64-4631-81ae-66f05ff23e78",
   "metadata": {},
   "outputs": [],
   "source": [
    "import torch\n",
    "import torch.nn as nn\n",
    "import torch.optim as optim\n",
    "import torch.nn.functional as F\n",
    "from torch.utils.data import DataLoader\n",
    "import torchvision.datasets as datasets\n",
    "import torchvision.transforms as transforms\n",
    "import torchvision"
   ]
  },
  {
   "cell_type": "code",
   "execution_count": 26,
   "id": "7a3eb5c5-610e-4156-8d74-93cb62f40101",
   "metadata": {},
   "outputs": [],
   "source": [
    "class Discriminator(nn.Module):\n",
    "     def __init__(self,in_features):\n",
    "         super(Discriminator,self).__init__()\n",
    "         self.l1=nn.Linear(in_features,128)\n",
    "         self.r1=nn.LeakyReLU(0.1)\n",
    "         self.l2=nn.Linear(128,1)\n",
    "         self.s=nn.Sigmoid()\n",
    "\n",
    "     def forward(self,x):\n",
    "         x=self.l1(x)\n",
    "         x=self.r1(x)\n",
    "         x=self.l2(x)\n",
    "         x=self.s(x)\n",
    "         return x"
   ]
  },
  {
   "cell_type": "code",
   "execution_count": 28,
   "id": "cb2afb9d-e534-4273-b39c-dc2275046a2e",
   "metadata": {},
   "outputs": [],
   "source": [
    "class Generator(nn.Module):\n",
    "     def __init__(self,z_dim,img_dim):\n",
    "         super(Generator,self).__init__()\n",
    "         self.l1=nn.Linear(img_dim,256)\n",
    "         self.r1=nn.LeakyReLU(0.1)\n",
    "         self.l2=nn.Linear(256,z_dim)\n",
    "         self.s=nn.Tanh()\n",
    "\n",
    "     def forward(self,x):\n",
    "         x=self.l1(x)\n",
    "         x=self.r1(x)\n",
    "         x=self.l2(x)\n",
    "         x=self.s(x)\n",
    "         return x"
   ]
  },
  {
   "cell_type": "code",
   "execution_count": 30,
   "id": "34da20ec-bdc8-4153-9920-59d901b6d4ec",
   "metadata": {},
   "outputs": [],
   "source": [
    "lr=3e-4\n",
    "z_dim=64\n",
    "image_dim=784\n",
    "batch_size=32\n",
    "epo=1"
   ]
  },
  {
   "cell_type": "code",
   "execution_count": 36,
   "id": "c01a72cf-07f8-46d0-b504-fd7f5a35cd50",
   "metadata": {},
   "outputs": [],
   "source": [
    "disc = Discriminator(image_dim)\n",
    "gen = Generator(z_dim, image_dim)\n",
    "fixed_noise = torch.randn((batch_size, z_dim))\n",
    "# transforms = transforms.Compose(\n",
    "\n",
    "# )\n",
    "[transforms.ToTensor(), transforms.Normalize((0.1307,), (0.3081,))]\n",
    "dataset = datasets.MNIST(root=\"dataset/\", transform=transforms, download=True)\n",
    "loader = DataLoader(dataset, batch_size=batch_size, shuffle=True)\n",
    "opt_disc = optim.Adam(disc.parameters(), lr=lr)\n",
    "opt_gen = optim.Adam(gen.parameters(), lr=lr)\n",
    "criterion = nn.BCELoss()"
   ]
  },
  {
   "cell_type": "code",
   "execution_count": null,
   "id": "6238979a-1246-4824-869e-1bcb231165a2",
   "metadata": {},
   "outputs": [],
   "source": [
    "for epoch in range(num_epochs):\n",
    "    for batch_idx, (real, _) in enumerate(loader):\n",
    "        real = real.view(-1, 784).to(device)\n",
    "        batch_size = real.shape[0]\n",
    "\n",
    "        ### Train Discriminator: max log(D(x)) + log(1 - D(G(z)))\n",
    "        noise = torch.randn(batch_size, z_dim).to(device)\n",
    "        fake = gen(noise)\n",
    "        disc_real = disc(real).view(-1)\n",
    "        lossD_real = criterion(disc_real, torch.ones_like(disc_real))\n",
    "        disc_fake = disc(fake).view(-1)\n",
    "        lossD_fake = criterion(disc_fake, torch.zeros_like(disc_fake))\n",
    "        lossD = (lossD_real + lossD_fake) / 2\n",
    "        disc.zero_grad()\n",
    "        lossD.backward(retain_graph=True)\n",
    "        opt_disc.step()\n",
    "\n",
    "        ### Train Generator: min log(1 - D(G(z))) <-> max log(D(G(z))\n",
    "        # where the second option of maximizing doesn't suffer from\n",
    "        # saturating gradients\n",
    "        output = disc(fake).view(-1)\n",
    "        lossG = criterion(output, torch.ones_like(output))\n",
    "        gen.zero_grad()\n",
    "        lossG.backward()\n",
    "        opt_gen.step()\n",
    "\n",
    "        if batch_idx == 0:\n",
    "            print(\n",
    "                f\"Epoch [{epoch}/{num_epochs}] Batch {batch_idx}/{len(loader)} \\\n",
    "                      Loss D: {lossD:.4f}, loss G: {lossG:.4f}\"\n",
    "            )\n",
    "\n",
    "            with torch.no_grad():\n",
    "                fake = gen(fixed_noise).reshape(-1, 1, 28, 28)\n",
    "                data = real.reshape(-1, 1, 28, 28)\n",
    "                img_grid_fake = torchvision.utils.make_grid(fake, normalize=True)\n",
    "                img_grid_real = torchvision.utils.make_grid(data, normalize=True)\n",
    "\n",
    "                writer_fake.add_image(\n",
    "                    \"Mnist Fake Images\", img_grid_fake, global_step=step\n",
    "                )\n",
    "                writer_real.add_image(\n",
    "                    \"Mnist Real Images\", img_grid_real, global_step=step\n",
    "                )\n",
    "                step += 1\n",
    "    "
   ]
  }
 ],
 "metadata": {
  "kernelspec": {
   "display_name": "Python 3 (ipykernel)",
   "language": "python",
   "name": "python3"
  },
  "language_info": {
   "codemirror_mode": {
    "name": "ipython",
    "version": 3
   },
   "file_extension": ".py",
   "mimetype": "text/x-python",
   "name": "python",
   "nbconvert_exporter": "python",
   "pygments_lexer": "ipython3",
   "version": "3.12.4"
  }
 },
 "nbformat": 4,
 "nbformat_minor": 5
}
