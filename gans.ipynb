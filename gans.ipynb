{
 "cells": [
  {
   "cell_type": "code",
   "execution_count": 1,
   "id": "5d0206d6-ff64-4631-81ae-66f05ff23e78",
   "metadata": {},
   "outputs": [],
   "source": [
    "import torch\n",
    "import torch.nn as nn\n",
    "import torch.optim as optim\n",
    "import torch.nn.functional as F\n",
    "from torch.utils.data import DataLoader\n",
    "import torchvision.datasets as datasets\n",
    "import torchvision.transforms as transforms\n",
    "import torchvision"
   ]
  },
  {
   "cell_type": "code",
   "execution_count": 6,
   "id": "7a3eb5c5-610e-4156-8d74-93cb62f40101",
   "metadata": {},
   "outputs": [],
   "source": [
    "class Discriminator(nn.Module):\n",
    "     def __init__(self,in_features):\n",
    "         super(Discriminator,self).__init__()\n",
    "         self.l1=nn.Linear(in_features,128)\n",
    "         self.r1=nn.Relu(0.1)\n",
    "         self.l2=nn.Linear(128,1)\n",
    "         self.s=nn.Sigmoid()\n",
    "\n",
    "     def forward(self,x):\n",
    "         x=self.l1(x)\n",
    "         x=self.r1(x)\n",
    "         x=self.l2(x)\n",
    "         x=self.s(x)\n",
    "         return x"
   ]
  },
  {
   "cell_type": "code",
   "execution_count": 14,
   "id": "cb2afb9d-e534-4273-b39c-dc2275046a2e",
   "metadata": {},
   "outputs": [],
   "source": [
    "class Generator(nn.Module):\n",
    "     def __init__(self,z_dim,img_dim):\n",
    "         super(Generator,self).__init__()\n",
    "         self.l1=nn.Linear(img_dim,256)\n",
    "         self.r1=nn.Relu(0.1)\n",
    "         self.l2=nn.Linear(256,z_dim)\n",
    "         self.s=nn.Tanh()\n",
    "\n",
    "     def forward(self,x):\n",
    "         x=self.l1(x)\n",
    "         x=self.r1(x)\n",
    "         x=self.l2(x)\n",
    "         x=self.s(x)\n",
    "         return x"
   ]
  },
  {
   "cell_type": "code",
   "execution_count": 16,
   "id": "34da20ec-bdc8-4153-9920-59d901b6d4ec",
   "metadata": {},
   "outputs": [],
   "source": [
    "lr=3e-4\n",
    "z_dim=64\n",
    "img_dim=784\n",
    "batch_size=32\n",
    "epo=1"
   ]
  },
  {
   "cell_type": "code",
   "execution_count": null,
   "id": "c01a72cf-07f8-46d0-b504-fd7f5a35cd50",
   "metadata": {},
   "outputs": [],
   "source": []
  }
 ],
 "metadata": {
  "kernelspec": {
   "display_name": "Python 3 (ipykernel)",
   "language": "python",
   "name": "python3"
  },
  "language_info": {
   "codemirror_mode": {
    "name": "ipython",
    "version": 3
   },
   "file_extension": ".py",
   "mimetype": "text/x-python",
   "name": "python",
   "nbconvert_exporter": "python",
   "pygments_lexer": "ipython3",
   "version": "3.12.4"
  }
 },
 "nbformat": 4,
 "nbformat_minor": 5
}
